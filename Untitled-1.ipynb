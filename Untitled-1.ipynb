{
 "cells": [
  {
   "cell_type": "markdown",
   "id": "2cea3a04",
   "metadata": {},
   "source": [
    "public class Products\n",
    "{\n",
    "   [key]\n",
    "   public int ProductID { get; set;}\n",
    "\n",
    "   [required]\n",
    "   [stringLength(50,ErrrorMessage=\"Name cannot ecxeede more tha 50 charecters\")]\n",
    "   public string? ProductName {get; set;}\n",
    "\n",
    "   [required]\n",
    "   [Range(0,int,Maxvalue,ErrorMessage=\"Unit order cannot be a Negative Value\")]\n",
    "   public bool UnitPrice {get;set;}\n",
    "\n",
    "   \n",
    "   [Required(ErrorMessage= \"RecordLevel is required\")]\n",
    "   [Range(0,int,MaxValue,ErrorMessage=\"RecordLevel cammot be a negative value\")]\n",
    "   public int RecordLevel {get,set;}\n",
    "\n",
    "   public bool Discountinued {get; set;}\n",
    "\n",
    "\n",
    "}"
   ]
  },
  {
   "cell_type": "markdown",
   "id": "64ec237f",
   "metadata": {},
   "source": [
    "public class Supplier\n",
    "{\n",
    "    public int Id {get; set;}\n",
    "\n",
    "    [Required(ErrorMessage=\"Company name is required\")]\n",
    "    [stringLength(100,ErroeMessage=\"Company must excede 100 chareacters\")]\n",
    "    public string CompanyName {get; set;}\n",
    "\n",
    "    [Require(ErrorMessage=\"Please enter ContactName\")]\n",
    "    [stringlength(50,ErrorMessage=\"ContactName must exactly 50 charecters\")]\n",
    "\n",
    "    [ForeignKey(\"ProductID\")]\n",
    "    Public int ProductID {Get ;set;}\n",
    "\n",
    "    public virtual Product ? Product {get; set;}\n",
    "\n",
    "    \n",
    "\n",
    "\n",
    "}"
   ]
  },
  {
   "cell_type": "markdown",
   "id": "7d8b0ba1",
   "metadata": {},
   "source": [
    "public class ApplicationDbContext :DbContext\n",
    "{\n",
    "    public ApplicationDbContext(DbContextOptions<ApplicationDbContext>options)\n",
    "       :base(options)\n",
    "       {\n",
    "       }\n",
    "\n",
    "       public DbSet<Products>Products {get ; set;}\n",
    "       public DbSet<Supplier>Supplier {get; set;}\n",
    "}"
   ]
  },
  {
   "cell_type": "markdown",
   "id": "e2d725cb",
   "metadata": {},
   "source": [
    "\"ConnestionStrings\":{\n",
    "    \"DefaultConnetion\": \"server=DLAMINIJR\\\\SQLEXPRESS;Database=CompanyApp;Trusted_Connectioon=True;MultipleActiveResultSet=True;TrustServerCerticate=true\"\n",
    "}"
   ]
  },
  {
   "cell_type": "markdown",
   "id": "23723cf8",
   "metadata": {},
   "source": [
    "public class ProductController : Controller \n",
    "{\n",
    "    private ApplicationDbContext _Context;\n",
    "\n",
    "    public ProductController(ApplicationDbContext context)\n",
    "    {\n",
    "        _context = context;\n",
    "    }\n",
    "\n",
    "    public async Task<IActionResult>Index()\n",
    "    {\n",
    "        var product = await _context.Product().ToList()\n",
    "        return View();\n",
    "    }\n",
    "}"
   ]
  },
  {
   "cell_type": "markdown",
   "id": "5ea379bc",
   "metadata": {},
   "source": [
    "public class SupplierController : Controller\n",
    "{\n",
    "    private ApplicationDbContext _Context\n",
    "\n",
    "    public SupplierController(ApplicationDbContext context)\n",
    "    {\n",
    "        _context = context;\n",
    "    }\n",
    "\n",
    "    public async Task<IActionResult>Index()\n",
    "    {\n",
    "        var Supplier = await\n",
    "    }\n",
    "}"
   ]
  }
 ],
 "metadata": {
  "kernelspec": {
   "display_name": "Python 3",
   "language": "python",
   "name": "python3"
  },
  "language_info": {
   "name": "python",
   "version": "3.13.2"
  }
 },
 "nbformat": 4,
 "nbformat_minor": 5
}
